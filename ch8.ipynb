{
 "cells": [
  {
   "cell_type": "code",
   "execution_count": 2,
   "id": "40f1d2ff-9185-44f6-b8ac-9dc6c8ff435b",
   "metadata": {},
   "outputs": [],
   "source": [
    "import numpy as np\n",
    "import matplotlib.pyplot as plt\n",
    "import pandas as pd\n",
    "import statsmodels.api as sm"
   ]
  },
  {
   "cell_type": "code",
   "execution_count": 9,
   "id": "53d00705-24bf-4d5c-883d-bdb851a039d9",
   "metadata": {},
   "outputs": [
    {
     "name": "stdout",
     "output_type": "stream",
     "text": [
      "(207, 2)\n",
      "(193, 2)\n"
     ]
    }
   ],
   "source": [
    "# データの読み込み\n",
    "UN = np.array(pd.read_csv('data/UN.csv').values[:,1:3]).astype('float64')\n",
    "print(UN.shape)\n",
    "# nanを含むデータの除去\n",
    "UN = UN[~np.isnan(UN).any(axis=1),:]\n",
    "print(UN.shape)"
   ]
  },
  {
   "cell_type": "code",
   "execution_count": 12,
   "id": "5147de53-8206-4b15-8fe3-969c23169539",
   "metadata": {},
   "outputs": [
    {
     "data": {
      "text/plain": [
       "array([ 7.0452008 , -0.49320262])"
      ]
     },
     "execution_count": 12,
     "metadata": {},
     "output_type": "execute_result"
    }
   ],
   "source": [
    "# データを対数で変換\n",
    "logUN = np.log(UN)\n",
    "x = logUN[:,1].reshape(-1,1)\n",
    "y = logUN[:,0]\n",
    "xc = sm.add_constant(x)\n",
    "lf = sm.OLS(y,xc).fit()\n",
    "lf.params"
   ]
  },
  {
   "cell_type": "code",
   "execution_count": 13,
   "id": "aff81ba6-44c0-4d84-be0c-f02b82319893",
   "metadata": {},
   "outputs": [
    {
     "data": {
      "text/html": [
       "<table class=\"simpletable\">\n",
       "<tr>\n",
       "        <td>Model:</td>               <td>OLS</td>         <td>Adj. R-squared:</td>     <td>0.654</td> \n",
       "</tr>\n",
       "<tr>\n",
       "  <td>Dependent Variable:</td>         <td>y</td>               <td>AIC:</td>         <td>348.5429</td>\n",
       "</tr>\n",
       "<tr>\n",
       "         <td>Date:</td>        <td>2023-11-18 23:39</td>        <td>BIC:</td>         <td>355.0683</td>\n",
       "</tr>\n",
       "<tr>\n",
       "   <td>No. Observations:</td>         <td>193</td>         <td>Log-Likelihood:</td>    <td>-172.27</td>\n",
       "</tr>\n",
       "<tr>\n",
       "       <td>Df Model:</td>              <td>1</td>           <td>F-statistic:</td>       <td>363.7</td> \n",
       "</tr>\n",
       "<tr>\n",
       "     <td>Df Residuals:</td>           <td>191</td>       <td>Prob (F-statistic):</td> <td>4.32e-46</td>\n",
       "</tr>\n",
       "<tr>\n",
       "      <td>R-squared:</td>            <td>0.656</td>            <td>Scale:</td>         <td>0.35266</td>\n",
       "</tr>\n",
       "</table>\n",
       "<table class=\"simpletable\">\n",
       "<tr>\n",
       "    <td></td>     <th>Coef.</th>  <th>Std.Err.</th>     <th>t</th>     <th>P>|t|</th> <th>[0.025</th>  <th>0.975]</th> \n",
       "</tr>\n",
       "<tr>\n",
       "  <th>const</th> <td>7.0452</td>   <td>0.1991</td>   <td>35.3790</td> <td>0.0000</td> <td>6.6524</td>  <td>7.4380</td> \n",
       "</tr>\n",
       "<tr>\n",
       "  <th>x1</th>    <td>-0.4932</td>  <td>0.0259</td>  <td>-19.0697</td> <td>0.0000</td> <td>-0.5442</td> <td>-0.4422</td>\n",
       "</tr>\n",
       "</table>\n",
       "<table class=\"simpletable\">\n",
       "<tr>\n",
       "     <td>Omnibus:</td>    <td>10.055</td>  <td>Durbin-Watson:</td>    <td>1.864</td>\n",
       "</tr>\n",
       "<tr>\n",
       "  <td>Prob(Omnibus):</td>  <td>0.007</td> <td>Jarque-Bera (JB):</td> <td>21.166</td>\n",
       "</tr>\n",
       "<tr>\n",
       "       <td>Skew:</td>      <td>0.097</td>     <td>Prob(JB):</td>      <td>0.000</td>\n",
       "</tr>\n",
       "<tr>\n",
       "     <td>Kurtosis:</td>    <td>4.611</td>  <td>Condition No.:</td>     <td>36</td>  \n",
       "</tr>\n",
       "</table>"
      ],
      "text/plain": [
       "<class 'statsmodels.iolib.summary2.Summary'>\n",
       "\"\"\"\n",
       "                 Results: Ordinary least squares\n",
       "=================================================================\n",
       "Model:              OLS              Adj. R-squared:     0.654   \n",
       "Dependent Variable: y                AIC:                348.5429\n",
       "Date:               2023-11-18 23:39 BIC:                355.0683\n",
       "No. Observations:   193              Log-Likelihood:     -172.27 \n",
       "Df Model:           1                F-statistic:        363.7   \n",
       "Df Residuals:       191              Prob (F-statistic): 4.32e-46\n",
       "R-squared:          0.656            Scale:              0.35266 \n",
       "-------------------------------------------------------------------\n",
       "          Coef.    Std.Err.      t       P>|t|     [0.025    0.975]\n",
       "-------------------------------------------------------------------\n",
       "const     7.0452     0.1991    35.3790   0.0000    6.6524    7.4380\n",
       "x1       -0.4932     0.0259   -19.0697   0.0000   -0.5442   -0.4422\n",
       "-----------------------------------------------------------------\n",
       "Omnibus:              10.055       Durbin-Watson:          1.864 \n",
       "Prob(Omnibus):        0.007        Jarque-Bera (JB):       21.166\n",
       "Skew:                 0.097        Prob(JB):               0.000 \n",
       "Kurtosis:             4.611        Condition No.:          36    \n",
       "=================================================================\n",
       "\n",
       "\"\"\""
      ]
     },
     "execution_count": 13,
     "metadata": {},
     "output_type": "execute_result"
    }
   ],
   "source": [
    "lf.summary2()"
   ]
  },
  {
   "cell_type": "code",
   "execution_count": 15,
   "id": "288607c8-eb95-4938-a59b-6ae982bb39cd",
   "metadata": {},
   "outputs": [
    {
     "data": {
      "image/png": "[encoded data removed]",
      "text/plain": [
       "<Figure size 432x288 with 1 Axes>"
      ]
     },
     "metadata": {
      "needs_background": "light"
     },
     "output_type": "display_data"
    }
   ],
   "source": [
    "tx = np.linspace(x.min(),x.max(),100).reshape(-1,1)  # 予測店の生成\n",
    "txc = sm.add_constant(tx)\n",
    "py = lf.predict(txc)\n",
    "plt.xlabel('GDP')\n",
    "plt.ylabel('infant mortality')\n",
    "plt.xscale(\"log\")\n",
    "plt.yscale(\"log\")\n",
    "plt.scatter(UN[:,1],UN[:,0], s=10, c='b')\n",
    "plt.plot(np.exp(tx),np.exp(py),'r-',lw=3)\n",
    "plt.show()"
   ]
  },
  {
   "cell_type": "code",
   "execution_count": null,
   "id": "efc81c2a-6711-43de-9e79-32dab5408b47",
   "metadata": {},
   "outputs": [],
   "source": []
  }
 ],
 "metadata": {
  "kernelspec": {
   "display_name": "Python 3 (ipykernel)",
   "language": "python",
   "name": "python3"
  },
  "language_info": {
   "codemirror_mode": {
    "name": "ipython",
    "version": 3
   },
   "file_extension": ".py",
   "mimetype": "text/x-python",
   "name": "python",
   "nbconvert_exporter": "python",
   "pygments_lexer": "ipython3",
   "version": "3.8.12"
  }
 },
 "nbformat": 4,
 "nbformat_minor": 5
}
